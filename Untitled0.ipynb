{
  "nbformat": 4,
  "nbformat_minor": 0,
  "metadata": {
    "colab": {
      "name": "Untitled0.ipynb",
      "provenance": [],
      "collapsed_sections": [],
      "authorship_tag": "ABX9TyMKxIKTlI5eRshP7KydOk3c",
      "include_colab_link": true
    },
    "kernelspec": {
      "name": "python3",
      "display_name": "Python 3"
    }
  },
  "cells": [
    {
      "cell_type": "markdown",
      "metadata": {
        "id": "view-in-github",
        "colab_type": "text"
      },
      "source": [
        "<a href=\"https://colab.research.google.com/github/Grd2-10x/IPC2-TDA/blob/main/Untitled0.ipynb\" target=\"_parent\"><img src=\"https://colab.research.google.com/assets/colab-badge.svg\" alt=\"Open In Colab\"/></a>"
      ]
    },
    {
      "cell_type": "markdown",
      "metadata": {
        "id": "ariiXE2anwzs"
      },
      "source": [
        "\r\n",
        "**Listas enlazadas 2021**\r\n"
      ]
    },
    {
      "cell_type": "code",
      "metadata": {
        "id": "M0YA3xNOn9Gq"
      },
      "source": [
        "class cliente:\r\n",
        "  def __init__(self, nombre, no_habitacion):\r\n",
        "    self.nombre =  nombre \r\n",
        "    self.no_habitacion = no_habitacion\r\n",
        "    "
      ],
      "execution_count": 2,
      "outputs": []
    },
    {
      "cell_type": "code",
      "metadata": {
        "id": "hykyELduoudS"
      },
      "source": [
        "class node:\r\n",
        "  def __init__(self, cliente = None, next= None):\r\n",
        "    self.cliente = cliente\r\n",
        "    self.next = next"
      ],
      "execution_count": 3,
      "outputs": []
    },
    {
      "cell_type": "code",
      "metadata": {
        "id": "cd1-BKnIowLa"
      },
      "source": [
        "class linked_list:\r\n",
        "  def __init__(self):\r\n",
        "    self.head = None\r\n",
        "  def insertar(self, cliente):\r\n",
        "    if not self.head:\r\n",
        "      self.head = node(cliente=cliente)\r\n",
        "      return\r\n",
        "    current = self.head\r\n",
        "    while current.next:\r\n",
        "      current = current.next\r\n",
        "      current.next= node(cliente = cliente)\r\n",
        "  def imprimir (self):\r\n",
        "    node = self.head\r\n",
        "    while node!= None:\r\n",
        "      print(node.cliente.nombre, end = \"->\")\r\n",
        "      node = node.next"
      ],
      "execution_count": 4,
      "outputs": []
    },
    {
      "cell_type": "code",
      "metadata": {
        "id": "fQQclUN0oy0k"
      },
      "source": [
        "c1 = cliente(\"Estuardo Zapeta\",101)\r\n",
        "c2 = cliente (\"Marco Lopez\", 103)\r\n",
        "c3 = cliente(\"Josua Armas\", 204)\r\n"
      ],
      "execution_count": 5,
      "outputs": []
    },
    {
      "cell_type": "code",
      "metadata": {
        "id": "cp-Gf5-to1Aq"
      },
      "source": [
        "lista= linked_list()\r\n",
        "lista.insertar(c1)\r\n",
        "lista.insertar(c2)"
      ],
      "execution_count": 6,
      "outputs": []
    },
    {
      "cell_type": "code",
      "metadata": {
        "colab": {
          "base_uri": "https://localhost:8080/"
        },
        "id": "YL3HBAlmo2pC",
        "outputId": "abd5b78e-022d-4995-d246-3fee8f39e840"
      },
      "source": [
        "lista.imprimir()"
      ],
      "execution_count": 7,
      "outputs": [
        {
          "output_type": "stream",
          "text": [
            "Estuardo Zapeta->"
          ],
          "name": "stdout"
        }
      ]
    },
    {
      "cell_type": "markdown",
      "metadata": {
        "id": "7rsmbNiwple6"
      },
      "source": [
        "**TDA Clase 2 Lista circular**"
      ]
    },
    {
      "cell_type": "code",
      "metadata": {
        "id": "O-8MtvCypjvi"
      },
      "source": [
        "class linked_list_circular:\r\n",
        "  def init(self, head=None):\r\n",
        "    self.head = head   \r\n",
        "    self.size = 0"
      ],
      "execution_count": 8,
      "outputs": []
    },
    {
      "cell_type": "code",
      "metadata": {
        "id": "g1phEVU2p0jC"
      },
      "source": [
        "def insertar (self, cliente):\r\n",
        "    if  self.size == 0: \r\n",
        "      self.head = node(cliente=cliente)\r\n",
        "      self.head.next = self.head \r\n",
        "    else:  \r\n",
        "      new_node = node(cliente=cliente, next=self.head.next)\r\n",
        "      self.head.next = new_node \r\n",
        "    self.size += 1"
      ],
      "execution_count": 9,
      "outputs": []
    },
    {
      "cell_type": "code",
      "metadata": {
        "id": "Tawbg_rUqI0b"
      },
      "source": [
        " def inprimir (self):\r\n",
        "    if self.head is None:   \r\n",
        "      return\r\n",
        "    node = self.head\r\n",
        "    print(node.cliente.nombre, end = \" => \")\r\n",
        "    while node.next != self.head: \r\n",
        "      node = node.next\r\n",
        "      print(node.cliente.nombre, end=\" => \")"
      ],
      "execution_count": 10,
      "outputs": []
    },
    {
      "cell_type": "code",
      "metadata": {
        "id": "XBxLgcgYqMra"
      },
      "source": [
        "def eliminar (self, no_habitacion):\r\n",
        "    node = self.head\r\n",
        "    previous = None\r\n",
        "\r\n",
        "    while True:\r\n",
        "      if node.cliente.no_habitacion == no_habitacion: \r\n",
        "        if previous is not None: \r\n",
        "          previous.next = node.next\r\n",
        "        else:\r\n",
        "          while node.next != self.head: \r\n",
        "            node = node.next \r\n",
        "          node.next = self.head.next \r\n",
        "          self.head = self.head.next\r\n",
        "        self.size -= 1\r\n",
        "        return True \r\n",
        "      elif node.next == self.head: \r\n",
        "        return False\r\n",
        "\r\n",
        "      previous = node\r\n",
        "      node = node.next \r\n"
      ],
      "execution_count": 11,
      "outputs": []
    },
    {
      "cell_type": "code",
      "metadata": {
        "id": "cjS1J570qQNb"
      },
      "source": [
        ""
      ],
      "execution_count": null,
      "outputs": []
    }
  ]
}